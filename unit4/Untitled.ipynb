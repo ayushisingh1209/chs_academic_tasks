{
 "cells": [
  {
   "cell_type": "code",
   "execution_count": 12,
   "id": "8da1f774",
   "metadata": {},
   "outputs": [
    {
     "name": "stdout",
     "output_type": "stream",
     "text": [
      "Defaulting to user installation because normal site-packages is not writeable\n",
      "Requirement already satisfied: pyspark in c:\\users\\vivek kumar singh\\appdata\\roaming\\python\\python311\\site-packages (3.5.1)\n",
      "Requirement already satisfied: py4j==0.10.9.7 in c:\\users\\vivek kumar singh\\appdata\\roaming\\python\\python311\\site-packages (from pyspark) (0.10.9.7)\n"
     ]
    }
   ],
   "source": [
    "!pip install pyspark"
   ]
  },
  {
   "cell_type": "code",
   "execution_count": 13,
   "id": "48cf14d5",
   "metadata": {},
   "outputs": [],
   "source": [
    "from pyspark.sql import SparkSession\n",
    "spark=SparkSession.builder.appName('Practise').getOrCreate()"
   ]
  },
  {
   "cell_type": "code",
   "execution_count": 64,
   "id": "cf2b1746",
   "metadata": {},
   "outputs": [],
   "source": [
    "df_pyspark=spark.read.csv('book2.csv',header=True,inferSchema=True)"
   ]
  },
  {
   "cell_type": "code",
   "execution_count": 65,
   "id": "460d1753",
   "metadata": {},
   "outputs": [
    {
     "name": "stdout",
     "output_type": "stream",
     "text": [
      "root\n",
      " |-- Product Name: string (nullable = true)\n",
      " |-- Selling Price: integer (nullable = true)\n",
      " |-- DateTime: string (nullable = true)\n",
      " |-- Purchased By: string (nullable = true)\n",
      " |-- Cash/Card: string (nullable = true)\n",
      " |-- Broker: string (nullable = true)\n",
      " |-- Country Imported: string (nullable = true)\n",
      "\n"
     ]
    }
   ],
   "source": [
    "df_pyspark.printSchema()"
   ]
  },
  {
   "cell_type": "code",
   "execution_count": 41,
   "id": "6f7e9162",
   "metadata": {},
   "outputs": [
    {
     "name": "stdout",
     "output_type": "stream",
     "text": [
      "+---------------+-------------+----------+-------------+--------------+----------+----------------+\n",
      "|   Product Name|Selling Price|      Date| Purchased By|Payment Method|    Broker|Country Imported|\n",
      "+---------------+-------------+----------+-------------+--------------+----------+----------------+\n",
      "|     Smartphone|         $600|02-03-2024| Emma Johnson|          Cash|XYZ Broker|           China|\n",
      "|     Smartphone|         $600|02-03-2024| Emma Johnson|          Cash|XYZ Broker|           China|\n",
      "|     Television|         NULL|03-03-2024| Michael Chen|          Card|DEF Broker|     South Korea|\n",
      "|     Headphones|          $70|04-03-2024|    Sarah Lee|          Card|MNO Broker|           Japan|\n",
      "|         Tablet|         $350|05-03-2024|   Emily Wang|          NULL|PQR Broker|          Taiwan|\n",
      "|         Camera|         $700|06-03-2024|    David Kim|          Card|GHI Broker|         Germany|\n",
      "|     Smartwatch|         $250|07-03-2024|         NULL|          Cash|JKL Broker|         Vietnam|\n",
      "|       Speakers|         $120|      NULL|   Ryan Brown|          Card|RST Broker|           India|\n",
      "| Gaming Console|         $500|09-03-2024|  Ethan Smith|          Card|UVW Broker|        Malaysia|\n",
      "|Fitness Tracker|         $100|10-03-2024|  Olivia Chen|          Cash|XYZ Broker|       Singapore|\n",
      "| Microwave Oven|         $200|11-03-2024|  Ava Johnson|          Card|MNO Broker|        Thailand|\n",
      "|   Refrigerator|        $1500|12-03-2024|    Noah Wong|          Cash|GHI Broker|          France|\n",
      "|   Coffee Maker|          $80|13-03-2024|   Sophia Lee|          Card|RST Broker|          Brazil|\n",
      "|Air Conditioner|        $1200|14-03-2024|    James Kim|          Cash|PQR Broker|             UAE|\n",
      "|        Blender|          $50|15-03-2024|   Mia Nguyen|          Card|DEF Broker|          Mexico|\n",
      "| Vacuum Cleaner|         $250|16-03-2024|         NULL|          Card|JKL Broker|       Australia|\n",
      "|        Printer|         $200|17-03-2024| Amelia Smith|          Cash|ABC Broker|          Canada|\n",
      "|      Projector|         $600|18-03-2024| William Chen|          Card|UVW Broker|           Italy|\n",
      "|          Drone|         $400|19-03-2024|Isabella Wang|          Card|MNO Broker|           Spain|\n",
      "|    Rice Cooker|          $60|20-03-2024| Ethan Wilson|          Cash|GHI Broker|     Netherlands|\n",
      "+---------------+-------------+----------+-------------+--------------+----------+----------------+\n",
      "only showing top 20 rows\n",
      "\n"
     ]
    }
   ],
   "source": [
    "df_pyspark.show()"
   ]
  },
  {
   "cell_type": "code",
   "execution_count": 66,
   "id": "8fb48950",
   "metadata": {},
   "outputs": [],
   "source": [
    "df1=df_pyspark.na.drop()"
   ]
  },
  {
   "cell_type": "code",
   "execution_count": 67,
   "id": "29e1bec5",
   "metadata": {},
   "outputs": [
    {
     "name": "stdout",
     "output_type": "stream",
     "text": [
      "+---------------+-------------+----------------+------------+---------+----------+----------------+\n",
      "|   Product Name|Selling Price|        DateTime|Purchased By|Cash/Card|    Broker|Country Imported|\n",
      "+---------------+-------------+----------------+------------+---------+----------+----------------+\n",
      "|     Smartphone|          500|18-03-2024 10:15| Alice Smith|     Card|XYZ Broker|           China|\n",
      "|     Television|         1000|18-03-2024 10:30| Bob Johnson|     Cash|DEF Broker|     South Korea|\n",
      "|         Tablet|          300|18-03-2024 11:00|   Sarah Lee|     Cash|PQR Broker|          Taiwan|\n",
      "|     Smartwatch|          200|18-03-2024 11:30|  Karen Chen|     Cash|JKL Broker|         Vietnam|\n",
      "| Gaming Console|          400|18-03-2024 12:00| James Smith|     Card|UVW Broker|        Malaysia|\n",
      "|Fitness Tracker|           80|18-03-2024 12:15|Jennifer Liu|     Cash|XYZ Broker|       Singapore|\n",
      "| Microwave Oven|          150|18-03-2024 12:30|   Eric Wang|     Card|MNO Broker|        Thailand|\n",
      "|   Refrigerator|         1200|18-03-2024 12:45|    Linda Wu|     Cash|GHI Broker|          France|\n",
      "|   Coffee Maker|           70|18-03-2024 13:00|  Daniel Lee|     Card|RST Broker|          Brazil|\n",
      "|Air Conditioner|         1000|18-03-2024 13:15|Michelle Tan|     Card|PQR Broker|             UAE|\n",
      "|        Blender|           40|18-03-2024 13:30| Ryan Nguyen|     Cash|DEF Broker|          Mexico|\n",
      "| Vacuum Cleaner|          200|18-03-2024 13:45|Sophia Zhang|     Card|JKL Broker|       Australia|\n",
      "|        Printer|          150|18-03-2024 14:00| Olivia Chen|     Card|ABC Broker|          Canada|\n",
      "|      Projector|          500|18-03-2024 14:15|    Ethan Wu|     Cash|UVW Broker|           Italy|\n",
      "|          Drone|          300|18-03-2024 14:30|  Ethan Chen|     Card|MNO Broker|           Spain|\n",
      "|    Rice Cooker|           50|18-03-2024 14:45|  Grace Wang|     Card|GHI Broker|     Netherlands|\n",
      "|    Rice Cooker|           50|18-03-2024 14:45|  Grace Wang|     Card|GHI Broker|     Netherlands|\n",
      "|         Laptop|          800|19-03-2024 10:45|  David Wong|     Card|JKL Broker|             USA|\n",
      "|     Smartphone|          500|19-03-2024 11:15|   Sarah Lee|     Card|XYZ Broker|           China|\n",
      "|     Television|         1000|19-03-2024 11:30|Jennifer Liu|     Card|PQR Broker|     South Korea|\n",
      "+---------------+-------------+----------------+------------+---------+----------+----------------+\n",
      "only showing top 20 rows\n",
      "\n"
     ]
    }
   ],
   "source": [
    "df1.show()"
   ]
  },
  {
   "cell_type": "code",
   "execution_count": 68,
   "id": "dd489aaf",
   "metadata": {},
   "outputs": [],
   "source": [
    "df2 = df1.dropDuplicates()"
   ]
  },
  {
   "cell_type": "code",
   "execution_count": 52,
   "id": "f3055b01",
   "metadata": {},
   "outputs": [
    {
     "name": "stdout",
     "output_type": "stream",
     "text": [
      "+---------------+-------------+----------+------------+--------------+----------+----------------+\n",
      "|   Product Name|Selling Price|      Date|Purchased By|Payment Method|    Broker|Country Imported|\n",
      "+---------------+-------------+----------+------------+--------------+----------+----------------+\n",
      "|        Printer|         $200|17-06-2024|  Sophia Kim|          Card|RST Broker|          Canada|\n",
      "|         Laptop|         $900|01-03-2024|  John Smith|          Card|ABC Broker|             USA|\n",
      "|      Projector|         $600|18-03-2024|William Chen|          Card|UVW Broker|           Italy|\n",
      "|          Drone|         $400|13-06-2024|   Mia Smith|          Card|GHI Broker|           Spain|\n",
      "|         Camera|         $700|15-06-2024| Ava Johnson|          Card|JKL Broker|         Germany|\n",
      "| Microwave Oven|         $200|11-03-2024| Ava Johnson|          Card|MNO Broker|        Thailand|\n",
      "|     Smartphone|         $600|02-03-2024|Emma Johnson|          Cash|XYZ Broker|           China|\n",
      "|Fitness Tracker|         $100|10-03-2024| Olivia Chen|          Cash|XYZ Broker|       Singapore|\n",
      "|       Speakers|         $120|20-06-2024|Ethan Nguyen|          Cash|XYZ Broker|           India|\n",
      "|Fitness Tracker|         $100|16-06-2024|William Chen|          Cash|UVW Broker|       Singapore|\n",
      "|     Television|        $1200|12-06-2024|Olivia Brown|          Cash|PQR Broker|     South Korea|\n",
      "|        Blender|          $50|15-03-2024|  Mia Nguyen|          Card|DEF Broker|          Mexico|\n",
      "|     Headphones|          $70|04-03-2024|   Sarah Lee|          Card|MNO Broker|           Japan|\n",
      "|Air Conditioner|        $1200|14-03-2024|   James Kim|          Cash|PQR Broker|             UAE|\n",
      "|    Rice Cooker|          $60|20-03-2024|Ethan Wilson|          Cash|GHI Broker|     Netherlands|\n",
      "|        Printer|         $200|17-03-2024|Amelia Smith|          Cash|ABC Broker|          Canada|\n",
      "| Microwave Oven|         $200|11-06-2024|Ethan Nguyen|          Card|XYZ Broker|        Thailand|\n",
      "| Gaming Console|         $500|09-03-2024| Ethan Smith|          Card|UVW Broker|        Malaysia|\n",
      "|         Tablet|         $350|14-06-2024| Noah Wilson|          Cash|DEF Broker|          Taiwan|\n",
      "|         Laptop|         $900|09-06-2024|Daniel Smith|          Card|JKL Broker|             USA|\n",
      "+---------------+-------------+----------+------------+--------------+----------+----------------+\n",
      "only showing top 20 rows\n",
      "\n"
     ]
    }
   ],
   "source": [
    "df2.show()"
   ]
  },
  {
   "cell_type": "code",
   "execution_count": 71,
   "id": "80b372e8",
   "metadata": {},
   "outputs": [
    {
     "name": "stdout",
     "output_type": "stream",
     "text": [
      "+---------------+------------------+\n",
      "|   Product Name|sum(Selling Price)|\n",
      "+---------------+------------------+\n",
      "|       Speakers|               100|\n",
      "|           Oven|               350|\n",
      "|   Refrigerator|              2400|\n",
      "|     Smartwatch|               200|\n",
      "| Microwave Oven|               150|\n",
      "|      Projector|               500|\n",
      "|         Laptop|              2400|\n",
      "|Air Conditioner|              2000|\n",
      "|        Blender|                80|\n",
      "| Vacuum Cleaner|               200|\n",
      "|Fitness Tracker|               160|\n",
      "|         Camera|               600|\n",
      "|   Coffee Maker|                70|\n",
      "|     Television|              2000|\n",
      "|Washing Machine|               700|\n",
      "|         Tablet|               600|\n",
      "|    Rice Cooker|                50|\n",
      "|          Drone|               300|\n",
      "|        Printer|               300|\n",
      "|     Smartphone|              1000|\n",
      "+---------------+------------------+\n",
      "only showing top 20 rows\n",
      "\n"
     ]
    }
   ],
   "source": [
    "df3 =df2.groupBy('Product Name').sum('Selling Price')\n",
    "df3.show()"
   ]
  },
  {
   "cell_type": "code",
   "execution_count": null,
   "id": "046ef0e6",
   "metadata": {},
   "outputs": [],
   "source": [
    "df3.write.csv('newcsv.csv', header=True)"
   ]
  }
 ],
 "metadata": {
  "kernelspec": {
   "display_name": "Python 3 (ipykernel)",
   "language": "python",
   "name": "python3"
  },
  "language_info": {
   "codemirror_mode": {
    "name": "ipython",
    "version": 3
   },
   "file_extension": ".py",
   "mimetype": "text/x-python",
   "name": "python",
   "nbconvert_exporter": "python",
   "pygments_lexer": "ipython3",
   "version": "3.11.5"
  }
 },
 "nbformat": 4,
 "nbformat_minor": 5
}
